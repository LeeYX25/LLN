{
 "cells": [
  {
   "cell_type": "code",
   "execution_count": null,
   "metadata": {
    "jupyter": {
     "is_executing": true
    }
   },
   "outputs": [],
   "source": [
    "import utils\n",
    "from models import AnnLassoRegression, LinearModel, AnnLassoClassification # Available models\n",
    "import matplotlib.pyplot as plt\n",
    "import pandas as pd\n",
    "import numpy as np\n",
    "import torch\n",
    "from skgarden import MondrianForestRegressor\n",
    "from sklearn.model_selection import GridSearchCV\n",
    "from utils2 import RWN, get_rfweight\n",
    "from sklearn import model_selection\n",
    "import warnings\n",
    "import math\n",
    "warnings.filterwarnings('ignore')\n",
    "\n"
   ]
  },
  {
   "cell_type": "code",
   "execution_count": null,
   "metadata": {
    "tags": []
   },
   "outputs": [],
   "source": [
    "#Classification\n",
    "model = AnnLassoClassification(penalty = 0, p2=20)\n",
    "model.fit(x_train,y_train,tau,True, True,False,False) \n",
    "y_pred=model.predict(x_test)\n",
    "acc=model.acc(y_test , y_pred ) \n",
    "needles_index_hat=np.array(model.important_features[1])\n",
    "s=len(needles_index_true)\n",
    "all_index=np.arange(1, x_train.shape[1])\n",
    "noneedles_index_true=np.delete(all_index,np.where(np.isin(all_index,needles_index_true)))\n",
    "tp_index=needles_index_hat[np.where(np.isin(needles_index_hat,needles_index_true)==True)]\n",
    "fp_index=needles_index_hat[np.where(np.isin(needles_index_hat,noneedles_index_true)==True)]\n",
    "tpr=len(tp_index)/s\n",
    "fdr=len(fp_index)/np.max([needles_index_hat.shape[0],1])\n",
    "if np.array_equal(needles_index_true,needles_index_hat):\n",
    "    PESR=1\n",
    "else:\n",
    "    PESR=0 \n",
    "    \n"
   ]
  },
  {
   "cell_type": "code",
   "execution_count": null,
   "metadata": {
    "tags": []
   },
   "outputs": [],
   "source": [
    "#Regression\n",
    "model= AnnLassoRegression(penalty = 0, p2=20) \n",
    "model.fit(x_train,y_train,tau,True, True,False,False) \n",
    "y_pred=model.predict(x_test)\n",
    "pe=np.mean((y_test - y_pred) ** 2) #testing error\n",
    "print(model.important_features)\n",
    "needles_index_hat=np.array(model.important_features[1])\n",
    "s=len(needles_index_true)\n",
    "all_index=np.arange(1,x_train.shape[1])\n",
    "noneedles_index_true=np.delete(all_index,np.where(np.isin(all_index,needles_index_true)))\n",
    "tp_index=needles_index_hat[np.where(np.isin(needles_index_hat,needles_index_true)==True)]\n",
    "fp_index=needles_index_hat[np.where(np.isin(needles_index_hat,noneedles_index_true)==True)]\n",
    "tpr=len(tp_index)/s\n",
    "fdr=len(fp_index)/np.max([needles_index_hat.shape[0],1])\n",
    "if np.array_equal(needles_index_true,needles_index_hat):\n",
    "    PESR=1\n",
    "else:\n",
    "    PESR=0 \n",
    "    \n"
   ]
  }
 ],
 "metadata": {
  "kernelspec": {
   "display_name": "Python 3 (ipykernel)",
   "language": "python",
   "name": "python3"
  },
  "language_info": {
   "codemirror_mode": {
    "name": "ipython",
    "version": 3
   },
   "file_extension": ".py",
   "mimetype": "text/x-python",
   "name": "python",
   "nbconvert_exporter": "python",
   "pygments_lexer": "ipython3",
   "version": "3.7.10"
  }
 },
 "nbformat": 4,
 "nbformat_minor": 4
}
